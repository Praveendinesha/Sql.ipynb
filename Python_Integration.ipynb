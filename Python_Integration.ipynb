{
  "nbformat": 4,
  "nbformat_minor": 0,
  "metadata": {
    "colab": {
      "provenance": []
    },
    "kernelspec": {
      "name": "python3",
      "display_name": "Python 3"
    },
    "language_info": {
      "name": "python"
    }
  },
  "cells": [
    {
      "cell_type": "code",
      "execution_count": null,
      "metadata": {
        "id": "mZCUFEq3kcfu"
      },
      "outputs": [],
      "source": [
        "## **Connecting Python to Sql**\n",
        "\n",
        "pip install mysql-connector-python\n",
        "import mysql.connector # this is for mysql\n",
        "\n",
        "pip install psycopg2\n",
        "import psycopg2 # this is for postgre sql\n",
        "\n",
        "mohan=psycopg2.connect(host='localhost', port=5432, user='postgres', password='your password', database='dt12')\n",
        "\n",
        "sabri=mohan.cursor()\n",
        "\n",
        "sabri.execute(\"insert into student values (12, 'suresh', 'dl', 'erode', 'dt05', 'suresh@guvi', 99.52, 'btech', 'nonit')\")\n",
        "\n",
        "mohan.commit()\n",
        "\n",
        "sabri.execute(\"select * from student\")\n",
        "\n",
        "result=sabri.fetchall()  #fetchall() will fetch all the records according to the condition mentioned"
      ]
    }
  ]
}