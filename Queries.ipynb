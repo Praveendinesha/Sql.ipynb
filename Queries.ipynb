### ***Structured Query Language***

create table student(
id int primary key,
name varchar(30),
course varchar(20),
location varchar(20),
batchid varchar(5),
email varchar(40),
assessmentmark float,
qualification varchar(10),
background varchar(10) );

select * from student; /*selecting all from student table*/

insert into student (id,name) values (000001,'mohan');
insert into student values (003,'kalaimathi','ds','madurai','dt01','kalai@guvi.com',91.52,'be','it'),
(004,'anand','ml','coimbatore','dt02','anand@guvi.com',51.52,'bsc','non-it'),
(005,'kalpana','dl','salem','dt01','kalpana@guvi.com',30.62,'bcom','non-it'),
(006,'sathish','ds','chennai','dt02','sathish@guvi.com',49.92,'bcom','non-it'),
(007,'aravind','ml','madurai','dt03','aravind@guvi.com',51.52,'bsc','it'),
(008,'samy','wd','chennai','dt04','samy@guvi.com',39.42,'be','non-it'),
(010,'amer','ds','chennai','dt04','amer@guvi.com',60.92,'bsc','non-it'),
(011,'sivan','uiux','madurai','dt03','sivan@guvi.com',70.22,'me','it');

select id,name from student;

select * from student where location = 'madurai';
select * from student where assessmentmark>50;
select * from student where assessmentmark<50;

select * from student where assessmentmark<60 or (location='madurai' and background='it');
select * from student where name like 'a%';
select * from student where name like '_a%';
select * from student where name like '%a%a%';
select * from student where name like '%an%an%';

select * from student where name like '%a%a%' and (name not like '%a%a%a%' or name not like '%a%');
/* not like - keyword. above query is for name with only 2a, not 3a and 1a.*/

select * from student where assessmentmark like '9%'; /*error querry coz like only works for text*/
select * from student where assessmentmark::text like '9%';  /* here changed number to text to use like*/

select * from student limit 5;

select * from student limit 5 offset 3;

select * from student order by assessmentmark;
select * from student order by assessmentmark desc;

select location, avg(assessmentmark)from student group by location;
select location, count(location), avg(assessmentmark) from student group by location;

select location, avg(assessmentmark) as averagemark from student group by location;

update student set assessmentmark=20.21 where id=1;
select location, count(assessmentmark), avg(assessmentmark) from student group by location;

create table course(
id serial primary key,
coursename varchar (30));
 /* serial-creates INTEGER numbers upto 2^31 (or) also called AutoIncreament ID.*/

select * from course;
insert into course(coursename) values ('datascience'),('machinelearning'),('deeplearning');

select * from student;
update student set location='chennai',batchid = 'dt3',email = 'mohan@guvi.com' where name='mohan';
update student set qualification='bsc' where qualification is null;

create table batch (
batchid varchar(10),
batchtime varchar (10),
batchmode varchar(10));

select * from student;
insert into batch values('dt01','09.00am','weekday'),
('dt02','11.00am','weekday'),
('dt03','01.00am','weekday'),
('dt04','03.00am','weekend');

select * from student;
select * from batch;

select student.id, student.name, student.course, student.batchid,batch.batchid, batch.batchtime, batch.batchmode
from student inner join batch
on student.batchid=batch.batchid;

select student.id, student.name, student.course, student.batchid, batch.batchid, batch.batchtime, batch.batchmode
from student right outer join batch
on student.batchid=batch.batchid;

select student.id, student.name, student.course, student.batchid, batch.batchid, batch.batchtime, batch.batchmode from student
left outer join batch on student.batchid=batch.batchid;

select student.id, student.name, student.course, student.batchid, batch.batchid, batch.batchtime, batch.batchmode from student
full outer join batch on student.batchid=batch.batchid;

select student.id, student.name, student.course, student.batchid, batch.batchid, batch.batchtime, batch.batchmode from student
cross join batch;

create table audit(s_id int, s_name varchar(40), entry_time text);
select * from audit;

create function auditlog()
returns trigger
as
$$ --(or) $audittrigger$
begin
insert into audit(s_id,s_name,entry_time) values (new.id, new.name, current_timestamp); --current_timestamp:INBUILT FUNCTION TO GET CURRENT TIME
return new;
end;
$$ language plpgsql;

create trigger audittrigger after insert on student for each row execute procedure auditlog();

select * from audit;

insert into student values (9, 'sabri', 'ml', 'coimbatore', 'dt05', 'sabri@guvi', 49.52, 'be', 'it');


  MySQL vary in some querying types: for ex:

create trigger auditlog
after insert on student for each row
begin
insert into audit(s_id,s_name,entry_time) values (new.id, new.name, current_timestamp);
end;
